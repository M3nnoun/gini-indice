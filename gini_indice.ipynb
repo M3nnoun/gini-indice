{
 "cells": [
  {
   "cell_type": "markdown",
   "id": "be9aaaf3-1620-462b-bfab-1b44661f971e",
   "metadata": {},
   "source": [
    "---\n",
    "\n",
    "# Notebook d'Analyse : Indice de Gini et Concentration\n",
    "\n",
    "Ce notebook explore le concept de l'Indice de Gini et sa relation avec la concentration des données. Inspiré par le contenu du vidéo \"12. L'indice de Gini et la concentration\", nous appliquons les exemples et les techniques discutés pour mieux comprendre la répartition des données dans différents contextes, en utilisant Python, Pandas, NumPy et Matplotlib pour effectuer tous les calculs et tracés. Nous nous concentrons sur un exemple spécifique présenté dans le vidéo, en détaillant son application et son interprétation. À travers cet exemple pratique et d'autres analyses approfondies, nous examinons comment l'Indice de Gini peut être utilisé pour évaluer l'inégalité dans divers ensembles de données et comment il peut être interprété pour prendre des décisions informées.\n",
    "\n",
    "---"
   ]
  },
  {
   "cell_type": "code",
   "execution_count": 184,
   "id": "b5fd4183-f35e-4605-8b96-5df59e890ee3",
   "metadata": {},
   "outputs": [],
   "source": [
    "import pandas as pd\n",
    "import numpy as np\n",
    "import matplotlib.pyplot as ptl"
   ]
  },
  {
   "cell_type": "code",
   "execution_count": 3,
   "id": "b8b3998b-a64d-44c5-a376-c433bcad81f0",
   "metadata": {},
   "outputs": [],
   "source": [
    "data=pd.DataFrame(\n",
    "    {\n",
    "        'Salaire':[\n",
    "            '0;1000','1000;2000','2000;3000','3000;4000','4000;5000',\n",
    "        ],\n",
    "        'ni':[18,60,30,12,5]\n",
    "    }\n",
    ")"
   ]
  },
  {
   "cell_type": "code",
   "execution_count": 5,
   "id": "d38c0641-99b6-4000-a40b-bfa72479ee6f",
   "metadata": {},
   "outputs": [],
   "source": [
    "data['fi']=data['ni']/data['ni'].sum()"
   ]
  },
  {
   "cell_type": "markdown",
   "id": "9661b079-c6dc-4eba-bb56-1baa896334a9",
   "metadata": {},
   "source": [
    "Cette fonction `.cumsum()` calcule la somme cumulative des valeurs dans un DataFrame pandas. 📊"
   ]
  },
  {
   "cell_type": "code",
   "execution_count": 10,
   "id": "31ab1380-9f81-4cc4-9059-3eb6cd3cd1df",
   "metadata": {},
   "outputs": [],
   "source": [
    "data['Fi']=data['fi'].cumsum()"
   ]
  },
  {
   "cell_type": "markdown",
   "id": "4de46161-26ab-4bfb-9313-b46293e759a0",
   "metadata": {},
   "source": [
    "La méthode `.map()` est utilisée pour appliquer une fonction à chaque élément d'une série ou d'un dataframe dans pandas.\n",
    "\"La ligne calcule la moyenne des deux valeurs séparées par un point-virgule dans la colonne 'Salaire' et assigne le résultat à une nouvelle colonne 'xi' dans le dataframe 'data'.\" 📊🔢"
   ]
  },
  {
   "cell_type": "code",
   "execution_count": 15,
   "id": "8b07d097-a6ba-4ebf-b0a8-2cf04f0eb275",
   "metadata": {},
   "outputs": [],
   "source": [
    "data['xi']=data.Salaire.map(lambda x:np.mean([int(x.split(';')[0]),int(x.split(';')[1])]))"
   ]
  },
  {
   "cell_type": "code",
   "execution_count": 17,
   "id": "b91a25d1-9f64-49bf-9538-b8fd235f922f",
   "metadata": {},
   "outputs": [],
   "source": [
    "data['nixi']=data.ni*data.xi"
   ]
  },
  {
   "cell_type": "code",
   "execution_count": 19,
   "id": "17612c22-7035-4de6-bd7d-b7d5215953ba",
   "metadata": {},
   "outputs": [],
   "source": [
    "data['f(nixi)']=data['nixi']/data['nixi'].sum()"
   ]
  },
  {
   "cell_type": "code",
   "execution_count": 20,
   "id": "e942a92c-4454-4691-ab70-4e67337749f0",
   "metadata": {},
   "outputs": [
    {
     "data": {
      "text/html": [
       "<div>\n",
       "<style scoped>\n",
       "    .dataframe tbody tr th:only-of-type {\n",
       "        vertical-align: middle;\n",
       "    }\n",
       "\n",
       "    .dataframe tbody tr th {\n",
       "        vertical-align: top;\n",
       "    }\n",
       "\n",
       "    .dataframe thead th {\n",
       "        text-align: right;\n",
       "    }\n",
       "</style>\n",
       "<table border=\"1\" class=\"dataframe\">\n",
       "  <thead>\n",
       "    <tr style=\"text-align: right;\">\n",
       "      <th></th>\n",
       "      <th>Salaire</th>\n",
       "      <th>ni</th>\n",
       "      <th>fi</th>\n",
       "      <th>Fi</th>\n",
       "      <th>xi</th>\n",
       "      <th>nixi</th>\n",
       "      <th>f(nixi)</th>\n",
       "    </tr>\n",
       "  </thead>\n",
       "  <tbody>\n",
       "    <tr>\n",
       "      <th>0</th>\n",
       "      <td>0;1000</td>\n",
       "      <td>18</td>\n",
       "      <td>0.144</td>\n",
       "      <td>0.144</td>\n",
       "      <td>500.0</td>\n",
       "      <td>9000.0</td>\n",
       "      <td>0.037736</td>\n",
       "    </tr>\n",
       "    <tr>\n",
       "      <th>1</th>\n",
       "      <td>1000;2000</td>\n",
       "      <td>60</td>\n",
       "      <td>0.480</td>\n",
       "      <td>0.624</td>\n",
       "      <td>1500.0</td>\n",
       "      <td>90000.0</td>\n",
       "      <td>0.377358</td>\n",
       "    </tr>\n",
       "    <tr>\n",
       "      <th>2</th>\n",
       "      <td>2000;3000</td>\n",
       "      <td>30</td>\n",
       "      <td>0.240</td>\n",
       "      <td>0.864</td>\n",
       "      <td>2500.0</td>\n",
       "      <td>75000.0</td>\n",
       "      <td>0.314465</td>\n",
       "    </tr>\n",
       "    <tr>\n",
       "      <th>3</th>\n",
       "      <td>3000;4000</td>\n",
       "      <td>12</td>\n",
       "      <td>0.096</td>\n",
       "      <td>0.960</td>\n",
       "      <td>3500.0</td>\n",
       "      <td>42000.0</td>\n",
       "      <td>0.176101</td>\n",
       "    </tr>\n",
       "    <tr>\n",
       "      <th>4</th>\n",
       "      <td>4000;5000</td>\n",
       "      <td>5</td>\n",
       "      <td>0.040</td>\n",
       "      <td>1.000</td>\n",
       "      <td>4500.0</td>\n",
       "      <td>22500.0</td>\n",
       "      <td>0.094340</td>\n",
       "    </tr>\n",
       "  </tbody>\n",
       "</table>\n",
       "</div>"
      ],
      "text/plain": [
       "     Salaire  ni     fi     Fi      xi     nixi   f(nixi)\n",
       "0     0;1000  18  0.144  0.144   500.0   9000.0  0.037736\n",
       "1  1000;2000  60  0.480  0.624  1500.0  90000.0  0.377358\n",
       "2  2000;3000  30  0.240  0.864  2500.0  75000.0  0.314465\n",
       "3  3000;4000  12  0.096  0.960  3500.0  42000.0  0.176101\n",
       "4  4000;5000   5  0.040  1.000  4500.0  22500.0  0.094340"
      ]
     },
     "execution_count": 20,
     "metadata": {},
     "output_type": "execute_result"
    }
   ],
   "source": [
    "data"
   ]
  },
  {
   "cell_type": "code",
   "execution_count": 21,
   "id": "6896dc23-5245-48c8-acff-de8b56cee015",
   "metadata": {},
   "outputs": [],
   "source": [
    "data['F(nixi)']=data['f(nixi)'].cumsum()"
   ]
  },
  {
   "cell_type": "code",
   "execution_count": 27,
   "id": "f877bd37-eede-4ceb-8517-5a215f2f049e",
   "metadata": {},
   "outputs": [
    {
     "data": {
      "text/html": [
       "<div>\n",
       "<style scoped>\n",
       "    .dataframe tbody tr th:only-of-type {\n",
       "        vertical-align: middle;\n",
       "    }\n",
       "\n",
       "    .dataframe tbody tr th {\n",
       "        vertical-align: top;\n",
       "    }\n",
       "\n",
       "    .dataframe thead th {\n",
       "        text-align: right;\n",
       "    }\n",
       "</style>\n",
       "<table border=\"1\" class=\"dataframe\">\n",
       "  <thead>\n",
       "    <tr style=\"text-align: right;\">\n",
       "      <th></th>\n",
       "      <th>Salaire</th>\n",
       "      <th>ni</th>\n",
       "      <th>fi</th>\n",
       "      <th>Fi</th>\n",
       "      <th>xi</th>\n",
       "      <th>nixi</th>\n",
       "      <th>f(nixi)</th>\n",
       "      <th>F(nixi)</th>\n",
       "    </tr>\n",
       "  </thead>\n",
       "  <tbody>\n",
       "    <tr>\n",
       "      <th>0</th>\n",
       "      <td>0;1000</td>\n",
       "      <td>18</td>\n",
       "      <td>0.144</td>\n",
       "      <td>0.144</td>\n",
       "      <td>500.0</td>\n",
       "      <td>9000.0</td>\n",
       "      <td>0.037736</td>\n",
       "      <td>0.037736</td>\n",
       "    </tr>\n",
       "    <tr>\n",
       "      <th>1</th>\n",
       "      <td>1000;2000</td>\n",
       "      <td>60</td>\n",
       "      <td>0.480</td>\n",
       "      <td>0.624</td>\n",
       "      <td>1500.0</td>\n",
       "      <td>90000.0</td>\n",
       "      <td>0.377358</td>\n",
       "      <td>0.415094</td>\n",
       "    </tr>\n",
       "    <tr>\n",
       "      <th>2</th>\n",
       "      <td>2000;3000</td>\n",
       "      <td>30</td>\n",
       "      <td>0.240</td>\n",
       "      <td>0.864</td>\n",
       "      <td>2500.0</td>\n",
       "      <td>75000.0</td>\n",
       "      <td>0.314465</td>\n",
       "      <td>0.729560</td>\n",
       "    </tr>\n",
       "    <tr>\n",
       "      <th>3</th>\n",
       "      <td>3000;4000</td>\n",
       "      <td>12</td>\n",
       "      <td>0.096</td>\n",
       "      <td>0.960</td>\n",
       "      <td>3500.0</td>\n",
       "      <td>42000.0</td>\n",
       "      <td>0.176101</td>\n",
       "      <td>0.905660</td>\n",
       "    </tr>\n",
       "    <tr>\n",
       "      <th>4</th>\n",
       "      <td>4000;5000</td>\n",
       "      <td>5</td>\n",
       "      <td>0.040</td>\n",
       "      <td>1.000</td>\n",
       "      <td>4500.0</td>\n",
       "      <td>22500.0</td>\n",
       "      <td>0.094340</td>\n",
       "      <td>1.000000</td>\n",
       "    </tr>\n",
       "  </tbody>\n",
       "</table>\n",
       "</div>"
      ],
      "text/plain": [
       "     Salaire  ni     fi     Fi      xi     nixi   f(nixi)   F(nixi)\n",
       "0     0;1000  18  0.144  0.144   500.0   9000.0  0.037736  0.037736\n",
       "1  1000;2000  60  0.480  0.624  1500.0  90000.0  0.377358  0.415094\n",
       "2  2000;3000  30  0.240  0.864  2500.0  75000.0  0.314465  0.729560\n",
       "3  3000;4000  12  0.096  0.960  3500.0  42000.0  0.176101  0.905660\n",
       "4  4000;5000   5  0.040  1.000  4500.0  22500.0  0.094340  1.000000"
      ]
     },
     "execution_count": 27,
     "metadata": {},
     "output_type": "execute_result"
    }
   ],
   "source": [
    "data"
   ]
  },
  {
   "cell_type": "code",
   "execution_count": 25,
   "id": "f0a803e2-e00f-4ed6-a530-1790cdd22c9f",
   "metadata": {},
   "outputs": [
    {
     "data": {
      "text/plain": [
       "<Axes: xlabel='Fi'>"
      ]
     },
     "execution_count": 25,
     "metadata": {},
     "output_type": "execute_result"
    },
    {
     "data": {
      "image/png": "[encoded data removed]",
      "text/plain": [
       "<Figure size 640x480 with 1 Axes>"
      ]
     },
     "metadata": {},
     "output_type": "display_data"
    }
   ],
   "source": [
    "data.plot(kind='line',x='Fi',y='F(nixi)')"
   ]
  },
  {
   "cell_type": "markdown",
   "id": "e76ac176-dbe6-4438-82ee-a3be862c60e1",
   "metadata": {},
   "source": [
    "Ce code ajoute un point (0, 0) au début de deux listes (`x_data` et `y_data`) pour garantir que la ligne tracée commence depuis l'origine (0, 0). 📈"
   ]
  },
  {
   "cell_type": "code",
   "execution_count": 185,
   "id": "c6e1f8a1-d0fb-46a1-943b-ca8663dbd3a4",
   "metadata": {},
   "outputs": [],
   "source": [
    "x=np.linspace(0,1,2)\n",
    "x_data=list(data.Fi.copy())\n",
    "x_data.insert(0,0)\n",
    "y_data=list(data['F(nixi)'].copy())\n",
    "y_data.insert(0,0)"
   ]
  },
  {
   "cell_type": "code",
   "execution_count": 72,
   "id": "6fc8c6d0-1504-4067-a447-5623a1489647",
   "metadata": {},
   "outputs": [
    {
     "data": {
      "text/plain": [
       "[<matplotlib.lines.Line2D at 0x16f05490>]"
      ]
     },
     "execution_count": 72,
     "metadata": {},
     "output_type": "execute_result"
    },
    {
     "data": {
      "image/png": "[encoded data removed]",
      "text/plain": [
       "<Figure size 640x480 with 1 Axes>"
      ]
     },
     "metadata": {},
     "output_type": "display_data"
    }
   ],
   "source": [
    "ptl.plot(x_data,y_data,label='dis')\n",
    "ptl.plot(x,x,label='Linear')"
   ]
  },
  {
   "cell_type": "code",
   "execution_count": 159,
   "id": "7f3682f1-d599-4b6c-9130-32cded3dc317",
   "metadata": {},
   "outputs": [],
   "source": [
    "data_surface=data.loc[0:,['Fi','F(nixi)']].copy()"
   ]
  },
  {
   "cell_type": "markdown",
   "id": "f6812c5f-28c1-44b9-b356-372498954de6",
   "metadata": {},
   "source": [
    "Ce code calcule la distance entre les points sur la ligne des abscisses en soustrayant chaque valeur de la précédente dans la liste `x_data`. 📏"
   ]
  },
  {
   "cell_type": "code",
   "execution_count": 160,
   "id": "d02902ec-4545-4960-885a-0e051c0b3b76",
   "metadata": {},
   "outputs": [],
   "source": [
    "d=[x-x_data[x_data.index(x)-1] for x in x_data[1:]]"
   ]
  },
  {
   "cell_type": "markdown",
   "id": "1f738923-33b3-497e-9895-39d8fcf88dc1",
   "metadata": {},
   "source": [
    "Ce code calcule la somme de la petite base et de la grande base de chaque trapèze dans une liste nommée `data_surface['petite_grands_base']`, en utilisant la liste `y_data`. 📊"
   ]
  },
  {
   "cell_type": "code",
   "execution_count": 173,
   "id": "22eb3775-3ae8-4fd8-a456-0a8a8c764014",
   "metadata": {},
   "outputs": [],
   "source": [
    "data_surface['petite_grands_base']=[y+y_data[y_data.index(y)-1] for y in y_data[1:] ]"
   ]
  },
  {
   "cell_type": "code",
   "execution_count": 175,
   "id": "f198051f-9595-46f6-8047-c68966079581",
   "metadata": {},
   "outputs": [],
   "source": [
    "data_surface['d']=d"
   ]
  },
  {
   "cell_type": "code",
   "execution_count": 176,
   "id": "14a1bd4d-7ee9-41e4-9543-5b779ba8e4cd",
   "metadata": {},
   "outputs": [
    {
     "data": {
      "text/plain": [
       "1    0.498765\n",
       "2    0.382454\n",
       "3    0.179103\n",
       "4    0.080000\n",
       "dtype: float64"
      ]
     },
     "execution_count": 176,
     "metadata": {},
     "output_type": "execute_result"
    }
   ],
   "source": [
    "data_surface.iloc[1:,:].apply(lambda row:np.mean(row.Fi+row['F(nixi)'])*row.d,axis=1)"
   ]
  },
  {
   "cell_type": "code",
   "execution_count": 177,
   "id": "59d6b62f-661a-4991-ab45-580ab412b374",
   "metadata": {},
   "outputs": [],
   "source": [
    "data_surface['surface']=data_surface.iloc[1:,:].apply(lambda row:(row['petite_grands_base']*row.d)/2,axis=1)\n",
    "data_surface['surface'].fillna(data_surface.iloc[:1,:].apply(lambda row:(row.Fi*row['F(nixi)'])/2,axis=1),inplace=True)"
   ]
  },
  {
   "cell_type": "code",
   "execution_count": 178,
   "id": "7fe67adf-6019-40c5-b874-edcf4f775c98",
   "metadata": {},
   "outputs": [
    {
     "data": {
      "text/html": [
       "<div>\n",
       "<style scoped>\n",
       "    .dataframe tbody tr th:only-of-type {\n",
       "        vertical-align: middle;\n",
       "    }\n",
       "\n",
       "    .dataframe tbody tr th {\n",
       "        vertical-align: top;\n",
       "    }\n",
       "\n",
       "    .dataframe thead th {\n",
       "        text-align: right;\n",
       "    }\n",
       "</style>\n",
       "<table border=\"1\" class=\"dataframe\">\n",
       "  <thead>\n",
       "    <tr style=\"text-align: right;\">\n",
       "      <th></th>\n",
       "      <th>Fi</th>\n",
       "      <th>F(nixi)</th>\n",
       "      <th>petite_grands_base</th>\n",
       "      <th>d</th>\n",
       "      <th>surface</th>\n",
       "    </tr>\n",
       "  </thead>\n",
       "  <tbody>\n",
       "    <tr>\n",
       "      <th>0</th>\n",
       "      <td>0.144</td>\n",
       "      <td>0.037736</td>\n",
       "      <td>0.037736</td>\n",
       "      <td>0.144</td>\n",
       "      <td>0.002717</td>\n",
       "    </tr>\n",
       "    <tr>\n",
       "      <th>1</th>\n",
       "      <td>0.624</td>\n",
       "      <td>0.415094</td>\n",
       "      <td>0.452830</td>\n",
       "      <td>0.480</td>\n",
       "      <td>0.108679</td>\n",
       "    </tr>\n",
       "    <tr>\n",
       "      <th>2</th>\n",
       "      <td>0.864</td>\n",
       "      <td>0.729560</td>\n",
       "      <td>1.144654</td>\n",
       "      <td>0.240</td>\n",
       "      <td>0.137358</td>\n",
       "    </tr>\n",
       "    <tr>\n",
       "      <th>3</th>\n",
       "      <td>0.960</td>\n",
       "      <td>0.905660</td>\n",
       "      <td>1.635220</td>\n",
       "      <td>0.096</td>\n",
       "      <td>0.078491</td>\n",
       "    </tr>\n",
       "    <tr>\n",
       "      <th>4</th>\n",
       "      <td>1.000</td>\n",
       "      <td>1.000000</td>\n",
       "      <td>1.905660</td>\n",
       "      <td>0.040</td>\n",
       "      <td>0.038113</td>\n",
       "    </tr>\n",
       "  </tbody>\n",
       "</table>\n",
       "</div>"
      ],
      "text/plain": [
       "      Fi   F(nixi)  petite_grands_base      d   surface\n",
       "0  0.144  0.037736            0.037736  0.144  0.002717\n",
       "1  0.624  0.415094            0.452830  0.480  0.108679\n",
       "2  0.864  0.729560            1.144654  0.240  0.137358\n",
       "3  0.960  0.905660            1.635220  0.096  0.078491\n",
       "4  1.000  1.000000            1.905660  0.040  0.038113"
      ]
     },
     "execution_count": 178,
     "metadata": {},
     "output_type": "execute_result"
    }
   ],
   "source": [
    "data_surface"
   ]
  },
  {
   "cell_type": "markdown",
   "id": "c18c2ad7-42a7-4ac6-8973-21d57f4e8063",
   "metadata": {},
   "source": [
    "## L'indice de Gini"
   ]
  },
  {
   "cell_type": "code",
   "execution_count": 182,
   "id": "d2b235c7-4b9c-4f5d-a1f0-981f80cf8c75",
   "metadata": {},
   "outputs": [
    {
     "data": {
      "text/plain": [
       "0.2692830188679245"
      ]
     },
     "execution_count": 182,
     "metadata": {},
     "output_type": "execute_result"
    }
   ],
   "source": [
    "(0.5-data_surface.surface.sum())*2"
   ]
  },
  {
   "cell_type": "markdown",
   "id": "e8392fa5-9368-46d1-a089-b38ec83c2bde",
   "metadata": {},
   "source": [
    "\n",
    "**Credit:**  \n",
    "\"12. L'indice de Gini et la concentration\"  \n",
    "YouTube Video by [Insert Channel Name]  \n",
    "[Link to Video](https://www.youtube.com/watch?v=WGmPBgA8p7s)\n"
   ]
  },
  {
   "cell_type": "code",
   "execution_count": null,
   "id": "78e1873d-ccfa-40c5-bcd2-f29b48ce0cba",
   "metadata": {},
   "outputs": [],
   "source": []
  }
 ],
 "metadata": {
  "kernelspec": {
   "display_name": "Python 3 (ipykernel)",
   "language": "python",
   "name": "python3"
  },
  "language_info": {
   "codemirror_mode": {
    "name": "ipython",
    "version": 3
   },
   "file_extension": ".py",
   "mimetype": "text/x-python",
   "name": "python",
   "nbconvert_exporter": "python",
   "pygments_lexer": "ipython3",
   "version": "3.8.9"
  }
 },
 "nbformat": 4,
 "nbformat_minor": 5
}
